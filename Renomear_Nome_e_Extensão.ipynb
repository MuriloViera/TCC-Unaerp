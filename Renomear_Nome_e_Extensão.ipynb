{
  "nbformat": 4,
  "nbformat_minor": 0,
  "metadata": {
    "colab": {
      "name": "Renomear Nome e Extensão.ipynb",
      "provenance": [],
      "collapsed_sections": []
    },
    "kernelspec": {
      "name": "python3",
      "display_name": "Python 3"
    },
    "language_info": {
      "name": "python"
    }
  },
  "cells": [
    {
      "cell_type": "code",
      "execution_count": null,
      "metadata": {
        "id": "IGPi6wk-Y8si"
      },
      "outputs": [],
      "source": [
        "import string\n",
        "import os\n",
        "\n",
        "diretorio = \"/content/drive/Othercomputers/Meu computador/Data_set_Frutas/validation/apple\"\n",
        "i = 1\n",
        "\n",
        "# Modifica nome\n",
        "if os.path.isdir(diretorio) and not os.path.islink(diretorio):\n",
        "    arquivos = os.listdir(diretorio)\n",
        "    for arquivo in arquivos:\n",
        "        parteQueSai = arquivo\n",
        "        parteQueSubstitui = \"Apple_\" + str(i) + \".jpg\"\n",
        "        novoNome = str.replace(arquivo, parteQueSai, parteQueSubstitui)\n",
        "        fullpathOld = os.path.join(diretorio,arquivo)\n",
        "        fullpathNew = os.path.join(diretorio,novoNome)\n",
        "        os.rename(fullpathOld, fullpathNew)\n",
        "        i = i + 1\n",
        "        print(i)\n",
        "\n"
      ]
    }
  ]
}