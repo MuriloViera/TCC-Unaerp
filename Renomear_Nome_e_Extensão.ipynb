{
  "nbformat": 4,
  "nbformat_minor": 0,
  "metadata": {
    "colab": {
      "provenance": [],
      "collapsed_sections": []
    },
    "kernelspec": {
      "name": "python3",
      "display_name": "Python 3"
    },
    "language_info": {
      "name": "python"
    }
  },
  "cells": [
    {
      "cell_type": "markdown",
      "source": [
        "Bibliotecas"
      ],
      "metadata": {
        "id": "u5hNVu9AAcvi"
      }
    },
    {
      "cell_type": "code",
      "source": [
        "import cv2 as cv\n",
        "import numpy as np\n",
        "import matplotlib.pyplot as plt\n",
        "import pandas as pd\n",
        "import os\n",
        "from sklearn.preprocessing import StandardScaler\n",
        "from sklearn.model_selection import train_test_split\n",
        "from sklearn.neighbors import KNeighborsClassifier\n",
        "from sklearn.metrics import classification_report\n",
        "from sklearn.metrics import accuracy_score\n",
        "from sympy import *\n",
        "import csv\n",
        "import re\n",
        "import math\n",
        "!pip install Pillow\n",
        "import PIL\n",
        "from PIL import Image"
      ],
      "metadata": {
        "id": "tnbf_7cjkEgm",
        "colab": {
          "base_uri": "https://localhost:8080/"
        },
        "outputId": "37b0e40f-1c9a-44a3-848e-724d6653b448"
      },
      "execution_count": null,
      "outputs": [
        {
          "output_type": "stream",
          "name": "stdout",
          "text": [
            "Looking in indexes: https://pypi.org/simple, https://us-python.pkg.dev/colab-wheels/public/simple/\n",
            "Requirement already satisfied: Pillow in /usr/local/lib/python3.7/dist-packages (7.1.2)\n"
          ]
        }
      ]
    },
    {
      "cell_type": "markdown",
      "source": [
        "Mudar a imagem para 120x120"
      ],
      "metadata": {
        "id": "B0iIrqb0AWA9"
      }
    },
    {
      "cell_type": "code",
      "source": [
        "#Adicionar a imagem a uma 120 branca\n",
        "diretorio = \"/content/drive/Othercomputers/Meu computador/Data_set_Frutas_2/dados/plum\"\n",
        "\n",
        "i = 1\n",
        "\n",
        "# Modifica nome\n",
        "if os.path.isdir(diretorio) and not os.path.islink(diretorio):\n",
        "    arquivos = os.listdir(diretorio)\n",
        "    for arquivo in arquivos:\n",
        "      imgteste = Image.open('/content/drive/Othercomputers/Meu computador/Data_set_Frutas_2/dados/plum/Plum_' + str(i) + '.jpg')\n",
        "      imgteste2 = Image.open('/content/branco.jpg')\n",
        "      imgteste2.paste(imgteste, (10,10))\n",
        "      imgteste2.save('/content/drive/Othercomputers/Meu computador/Data_set_Frutas_2/dados/plum2/Plum_' + str(i) + '.jpg')\n",
        "      i = i + 1\n"
      ],
      "metadata": {
        "id": "ZGrAJbGIkMP9"
      },
      "execution_count": null,
      "outputs": []
    },
    {
      "cell_type": "markdown",
      "source": [
        "Mudar nome e extensão"
      ],
      "metadata": {
        "id": "M6h97KJOAZ3U"
      }
    },
    {
      "cell_type": "code",
      "execution_count": null,
      "metadata": {
        "id": "IGPi6wk-Y8si",
        "colab": {
          "base_uri": "https://localhost:8080/"
        },
        "outputId": "8a3505bc-3442-405a-c6fd-a730f77e5c14"
      },
      "outputs": [
        {
          "output_type": "stream",
          "name": "stdout",
          "text": [
            "2\n",
            "3\n",
            "4\n",
            "5\n",
            "6\n",
            "7\n",
            "8\n",
            "9\n",
            "10\n",
            "11\n",
            "12\n",
            "13\n",
            "14\n",
            "15\n",
            "16\n",
            "17\n",
            "18\n",
            "19\n",
            "20\n",
            "21\n",
            "22\n",
            "23\n",
            "24\n",
            "25\n",
            "26\n",
            "27\n",
            "28\n",
            "29\n",
            "30\n",
            "31\n",
            "32\n",
            "33\n",
            "34\n",
            "35\n",
            "36\n",
            "37\n",
            "38\n",
            "39\n",
            "40\n",
            "41\n",
            "42\n",
            "43\n",
            "44\n",
            "45\n",
            "46\n",
            "47\n",
            "48\n",
            "49\n",
            "50\n",
            "51\n",
            "52\n",
            "53\n",
            "54\n",
            "55\n",
            "56\n",
            "57\n",
            "58\n",
            "59\n",
            "60\n",
            "61\n",
            "62\n",
            "63\n",
            "64\n",
            "65\n",
            "66\n",
            "67\n",
            "68\n",
            "69\n",
            "70\n",
            "71\n",
            "72\n",
            "73\n",
            "74\n",
            "75\n",
            "76\n",
            "77\n",
            "78\n",
            "79\n",
            "80\n",
            "81\n",
            "82\n",
            "83\n",
            "84\n",
            "85\n",
            "86\n",
            "87\n",
            "88\n",
            "89\n",
            "90\n",
            "91\n",
            "92\n",
            "93\n",
            "94\n",
            "95\n",
            "96\n",
            "97\n",
            "98\n",
            "99\n",
            "100\n",
            "101\n",
            "102\n",
            "103\n",
            "104\n",
            "105\n",
            "106\n",
            "107\n",
            "108\n",
            "109\n",
            "110\n",
            "111\n",
            "112\n",
            "113\n",
            "114\n",
            "115\n",
            "116\n",
            "117\n",
            "118\n",
            "119\n",
            "120\n",
            "121\n",
            "122\n",
            "123\n",
            "124\n",
            "125\n",
            "126\n",
            "127\n",
            "128\n",
            "129\n",
            "130\n",
            "131\n",
            "132\n",
            "133\n",
            "134\n",
            "135\n",
            "136\n",
            "137\n",
            "138\n",
            "139\n",
            "140\n",
            "141\n",
            "142\n",
            "143\n",
            "144\n"
          ]
        }
      ],
      "source": [
        "import string\n",
        "import os\n",
        "\n",
        "diretorio = \"/content/drive/Othercomputers/Meu computador/Data_set_Frutas_2/dados/plum\"\n",
        "i = 1\n",
        "\n",
        "# Modifica nome\n",
        "if os.path.isdir(diretorio) and not os.path.islink(diretorio):\n",
        "    arquivos = os.listdir(diretorio)\n",
        "    for arquivo in arquivos:\n",
        "        parteQueSai = arquivo\n",
        "        parteQueSubstitui = \"Plum_\" + str(i) + \".jpg\"\n",
        "        novoNome = str.replace(arquivo, parteQueSai, parteQueSubstitui)\n",
        "        fullpathOld = os.path.join(diretorio,arquivo)\n",
        "        fullpathNew = os.path.join(diretorio,novoNome)\n",
        "        os.rename(fullpathOld, fullpathNew)\n",
        "        i = i + 1\n",
        "        print(i)\n",
        "\n"
      ]
    }
  ]
}